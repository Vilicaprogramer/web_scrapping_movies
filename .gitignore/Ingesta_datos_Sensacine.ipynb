{
 "cells": [
  {
   "cell_type": "markdown",
   "metadata": {},
   "source": [
    "```markdown\n",
    "# 🎬 Explicación Detallada del Script de Web Scraping de Sensacine (Para el Tutor) 🤓\n",
    "\n",
    "> He preparado este script de web scraping con el objetivo de extraer información de películas del sitio web Sensacine.  Soy consciente de que hay mucho por aprender, pero he intentado aplicar lo que he estudiado hasta ahora de la mejor manera posible.  A continuación, encontrarás una explicación detallada del código.  ¡Cualquier feedback o sugerencia será muy valioso! 🙏\n",
    "\n",
    "---\n",
    "\n",
    "**Puntos Clave para el Tutor:**\n",
    "\n",
    "*   **🕸️ Web Scraping:** El código demuestra el proceso de web scraping utilizando `requests` y `BeautifulSoup`, mostrando como hacer peticiones y como parsear la información de la web.\n",
    "\n",
    "*   **🛡️ Manejo de Errores:** El uso de bloques `try-except` es crucial para la robustez del script, permitiendo que el proceso continue aunque algunas películas no tengan todos los campos.\n",
    "\n",
    "*   **🔍 Extracción de Datos:** El script muestra cómo usar diferentes métodos de `BeautifulSoup` para encontrar y extraer datos específicos basándose en el HTML de la página.\n",
    "\n",
    "*   **🗄️ DataFrames:** La utilización de `pandas` DataFrame es muy útil para estructurar y organizar los datos extraídos, para después almacenarlos en un archivo por ejemplo.\n",
    "\n",
    "*   **🔄 Iteración en Páginas Web:** El código demuestra la lógica para iterar a través de múltiples páginas de una web para extraer información de varias páginas.\n",
    "\n",
    "*   **⚙️ Regex:** Muestra como usar expresiones regulares para buscar patrones en los datos\n",
    "\n",
    "*   **🚦 Condicionales:** Muestra el uso de condicionales para extraer la información dependiendo de la cantidad de datos que tenga, como puede ser el caso de los géneros o los actores.\n",
    "\n",
    "*   **🔗 Búsqueda de Datos Relacionados:** Muestra cómo hacer una búsqueda en una web secundaria con los datos extraídos de la principal.\n",
    "\n",
    "En resumen, el código proporciona una excelente base para el web scraping, demostrando una variedad de técnicas y buenas prácticas.\n"
   ]
  },
  {
   "cell_type": "code",
   "execution_count": 1,
   "metadata": {
    "colab": {
     "base_uri": "https://localhost:8080/"
    },
    "executionInfo": {
     "elapsed": 5737,
     "status": "ok",
     "timestamp": 1729784605505,
     "user": {
      "displayName": "Vicen",
      "userId": "09487260677934822038"
     },
     "user_tz": -120
    },
    "id": "RGyX8lBIIOgS",
    "outputId": "4d97b1bc-2192-4224-bf35-6456804d477b"
   },
   "outputs": [
    {
     "name": "stdout",
     "output_type": "stream",
     "text": [
      "Drive already mounted at /content/drive; to attempt to forcibly remount, call drive.mount(\"/content/drive\", force_remount=True).\n"
     ]
    }
   ],
   "source": [
    "# Importamos las librerías necesarias.\n",
    "\n",
    "import requests # Para hacer solicitudes HTTP\n",
    "from bs4 import BeautifulSoup # Para extraer información de las páginas web\n",
    "import pandas as pd # Para trabajar con los datasets\n",
    "import re # Para trabajar con expresiones regulares"
   ]
  },
  {
   "cell_type": "code",
   "execution_count": null,
   "metadata": {
    "colab": {
     "base_uri": "https://localhost:8080/",
     "output_embedded_package_id": "1sHei1Pg0SMAY1NN944gZhEgSdQAIb99Y"
    },
    "id": "5HKxH6HgVHJq",
    "outputId": "47f85148-9a36-4d36-b050-e756c0d4bf72"
   },
   "outputs": [
    {
     "data": {
      "text/plain": [
       "Output hidden; open in https://colab.research.google.com to view."
      ]
     },
     "metadata": {},
     "output_type": "display_data"
    }
   ],
   "source": [
    "# Inicializamos un DataFrame vacío para almacenar la información de las películas.\n",
    "# Las columnas representan los datos que vamos a extraer de la página web.\n",
    "df_peliculas = pd.DataFrame(columns=['Título', 'Fecha de Estreno', 'Duración', 'Género 1', 'Género 2', 'Género 3', 'Dirigida por', 'Actor 1', 'Actor 2', 'Actor 3', 'Medios Rate', 'Usuarios Rate', 'Sensacine Rate', 'Sinopsis', 'Sensacine Opinión'])\n",
    "\n",
    "# Inicializamos la variable 'pg' para controlar el número de página que vamos a procesar.\n",
    "pg = 1\n",
    "# Inicializamos 'last_page' para comparar la página actual con la anterior y detener el bucle si no hay cambios.\n",
    "last_page = None\n",
    "\n",
    "# Bucle infinito para recorrer todas las páginas de películas en la página web de Sensacine.\n",
    "while True:\n",
    "    # Realizamos la petición GET a la URL de la página actual.\n",
    "    html_doc = requests.get(f'https://www.sensacine.com/peliculas/todas-peliculas/?page={pg}')\n",
    "    # Creamos un objeto BeautifulSoup para parsear el HTML de la página.\n",
    "    soup1 = BeautifulSoup(html_doc.text, 'html.parser')\n",
    "    \n",
    "    # Comprobamos si la página actual es igual a la anterior (para detectar que hemos llegado a la última página).\n",
    "    if soup1 == last_page:\n",
    "      print('Terminado')\n",
    "      break # Salimos del bucle si no hay cambios.\n",
    "    else:\n",
    "      # Si la página es diferente, actualizamos 'last_page' y continuamos.\n",
    "      last_page = soup1\n",
    "      # Buscamos todos los elementos 'li' con clase 'mdl', que corresponden a cada película en la página.\n",
    "      peliculas = soup1.find_all('li', class_='mdl')\n",
    "      # Inicializamos un diccionario para guardar los datos de cada película antes de pasarlos al DataFrame.\n",
    "      dc_peliculas = {}\n",
    "      print(f'Comenzando la página {pg}') # Indicamos la página que estamos procesando.\n",
    "      # Iteramos a través de cada película encontrada en la página.\n",
    "      for pelicula in peliculas:\n",
    "        # --- Extracción del título de la película ---\n",
    "        try:\n",
    "          # Intentamos extraer el título de la película.\n",
    "          title = pelicula.find('a', class_=\"meta-title-link\").get_text(strip=True)\n",
    "          dc_peliculas['Título']= title # Guardamos el título en el diccionario.\n",
    "        except:\n",
    "          dc_peliculas['Título']= None # Si no encontramos el título, guardamos None.\n",
    "        # --- Extracción de la fecha de estreno ---\n",
    "        try:\n",
    "          # Intentamos extraer la fecha de estreno.\n",
    "          dc_peliculas['Fecha de Estreno']= pelicula.find('div', class_='meta-body-item meta-body-info').find('span', class_=\"date\").get_text(strip=True)\n",
    "        except:\n",
    "          dc_peliculas['Fecha de Estreno']= None\n",
    "        # --- Extracción de la duración ---\n",
    "        try:\n",
    "          # Intentamos extraer la duración de la película.\n",
    "          dc_peliculas['Duración']= pelicula.find('div', class_='meta-body-item meta-body-info').find(string= re.compile(\"[0-9]h\")).strip()\n",
    "        except:\n",
    "          dc_peliculas['Duración']= None\n",
    "\n",
    "        # --- Extracción de los géneros ---\n",
    "        try:\n",
    "          # Intentamos extraer los géneros de la película.\n",
    "          generos = pelicula.find('div', class_='meta-body-item meta-body-info').find_all('span', class_=\"dark-grey-link\")\n",
    "          # Extraemos hasta 3 géneros si están disponibles.\n",
    "          if len(generos) >= 1:\n",
    "            dc_peliculas['Género 1'] = generos[0].get_text(strip=True)\n",
    "          else:\n",
    "            dc_peliculas['Género 1'] = None\n",
    "          if len(generos) >= 2:\n",
    "            dc_peliculas['Género 2'] = generos[1].get_text(strip=True)\n",
    "          else:\n",
    "            dc_peliculas['Género 2'] = None\n",
    "          if len(generos) >= 3:\n",
    "            dc_peliculas['Género 3'] = generos[2].get_text(strip=True)\n",
    "          else:\n",
    "            dc_peliculas['Género 3'] = None\n",
    "        except:\n",
    "          dc_peliculas['Género 1'], dc_peliculas['Género 2'], dc_peliculas['Género 3']= None # Si no encontramos géneros, guardamos None.\n",
    "\n",
    "        # --- Extracción del director ---\n",
    "        try:\n",
    "          # Intentamos extraer el nombre del director.\n",
    "          dc_peliculas['Dirigida por']= pelicula.find('div', class_='meta-body-item meta-body-direction').find('span', class_=\"dark-grey-link\").get_text(strip=True)\n",
    "        except:\n",
    "          dc_peliculas['Dirigida por']= None\n",
    "\n",
    "        # --- Extracción de los actores ---\n",
    "        try:\n",
    "          # Intentamos extraer los nombres de los actores.\n",
    "          actores = pelicula.find('div', class_='meta-body-item meta-body-actor').find_all('a', class_=\"dark-grey-link\")\n",
    "          # Inicializamos los actores a None\n",
    "          dc_peliculas['Actor 1'] = None\n",
    "          dc_peliculas['Actor 2'] = None\n",
    "          dc_peliculas['Actor 3'] = None\n",
    "          # Guardamos hasta 3 actores si están disponibles.\n",
    "          if len(actores) == 1:\n",
    "            dc_peliculas['Actor 1'] = actores[0].get_text(strip=True)\n",
    "          elif len(actores) == 2:\n",
    "            dc_peliculas['Actor 1'] = actores[0].get_text(strip=True)\n",
    "            dc_peliculas['Actor 2'] = actores[1].get_text(strip=True)\n",
    "          else:\n",
    "            dc_peliculas['Actor 1'] = actores[0].get_text(strip=True)\n",
    "            dc_peliculas['Actor 2'] = actores[1].get_text(strip=True)\n",
    "            dc_peliculas['Actor 3'] = actores[2].get_text(strip=True)\n",
    "        except:\n",
    "          dc_peliculas['Actor 1'] = None\n",
    "          dc_peliculas['Actor 2'] = None\n",
    "          dc_peliculas['Actor 3'] = None\n",
    "\n",
    "        # --- Extracción del tercer actor (otra forma que se ve en la web) ---\n",
    "        try:\n",
    "          # Intentamos extraer el tercer actor en caso de que no estuviera en los links anteriores\n",
    "          dc_peliculas['Actor 3']= pelicula.find('div', class_='meta-body-item meta-body-actor').find('span', class_=\"dark-grey-link\").get_text(strip=True)\n",
    "        except:\n",
    "          dc_peliculas['Actor 3']= None\n",
    "\n",
    "        # --- Extracción de las valoraciones ---\n",
    "        try:\n",
    "          # Inicializamos las valoraciones a None\n",
    "          dc_peliculas['Medios Rate']= None\n",
    "          dc_peliculas['Usuarios Rate']= None\n",
    "          dc_peliculas['Sensacine Rate']= None\n",
    "          # Iteramos sobre los tipos de valoración (Medios, Usuarios, Sensacine).\n",
    "          rate = 1\n",
    "          while rate <= 4:\n",
    "            try:\n",
    "                for i in pelicula.find('div', class_=f'rating-holder rating-holder-{rate}').find_all('span', class_='rating-title'):\n",
    "                  if i.get_text(strip=True) == 'Usuarios':\n",
    "                    dc_peliculas['Usuarios Rate'] = i.find_next('span', class_=\"stareval-note\").get_text(strip=True)\n",
    "                  elif i.get_text(strip=True) == 'Sensacine':\n",
    "                    dc_peliculas['Sensacine Rate']= i.find_next('span', class_=\"stareval-note\").get_text(strip=True)\n",
    "                  elif i.get_text(strip=True) == 'Medios':\n",
    "                    dc_peliculas['Medios Rate'] = i.find_next('span', class_=\"stareval-note\").get_text(strip=True)\n",
    "                  else:\n",
    "                    continue\n",
    "                rate += 1\n",
    "            except:\n",
    "              rate += 1\n",
    "        except:\n",
    "          dc_peliculas['Medios Rate']= None\n",
    "          dc_peliculas['Usuarios Rate']= None\n",
    "          dc_peliculas['Sensacine Rate']= None\n",
    "\n",
    "        # --- Extracción de la sinopsis ---\n",
    "        try:\n",
    "          # Intentamos extraer la sinopsis.\n",
    "          dc_peliculas['Sinopsis']= pelicula.find('div', class_='synopsis').find_next('div', class_=\"content-txt\").get_text().strip()\n",
    "        except:\n",
    "           dc_peliculas['Sinopsis']= None\n",
    "\n",
    "        # --- Extracción de la opinión de Sensacine ---\n",
    "        try:\n",
    "          # Intentamos extraer la URL de la página de la película.\n",
    "          url = pelicula.find('a', class_=\"meta-title-link\").get('href')\n",
    "          # Realizamos la petición GET a la URL de la página de la película.\n",
    "          html_pelicula = requests.get(f'https://www.sensacine.com{url}sensacine/')\n",
    "          # Creamos un objeto BeautifulSoup para parsear el HTML de la página de la película.\n",
    "          soup2 = BeautifulSoup(html_pelicula.text, 'html.parser')\n",
    "          # Intentamos extraer la opinión de Sensacine.\n",
    "          soup2.find('div', class_=\"editorial-content cf\").get_text().strip()\n",
    "          dc_peliculas['Sensacine Opinión']= soup2.find('div', class_=\"editorial-content cf\").get_text().strip()\n",
    "        except:\n",
    "          dc_peliculas['Sensacine Opinión']= None\n",
    "\n",
    "        # Agregamos la información de la película al DataFrame\n",
    "        df_peliculas.loc[len(df_peliculas)] = dc_peliculas\n",
    "        print(dc_peliculas) # Imprimimos el diccionario con los datos de la película que acabamos de extraer.\n",
    "      pg += 1 # Incrementamos el número de página para la siguiente iteración.\n"
   ]
  },
  {
   "cell_type": "code",
   "execution_count": null,
   "metadata": {
    "id": "nL_3AHG6MQVv"
   },
   "outputs": [],
   "source": [
    "df_peliculas.to_csv('pon_aqui_el_nombre_de_tu_archivo.csv', index=False)\n",
    "df_peliculas.head()"
   ]
  }
 ],
 "metadata": {
  "colab": {
   "authorship_tag": "ABX9TyM57gN2bSyZmSPP+bz0niTI",
   "provenance": []
  },
  "kernelspec": {
   "display_name": "Python 3",
   "name": "python3"
  },
  "language_info": {
   "name": "python"
  }
 },
 "nbformat": 4,
 "nbformat_minor": 0
}
